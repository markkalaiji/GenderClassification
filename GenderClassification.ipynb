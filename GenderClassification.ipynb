{
 "cells": [
  {
   "cell_type": "markdown",
   "id": "initial-distributor",
   "metadata": {},
   "source": [
    "# CS 4662 Project - Gender Classification 👨 👩\n",
    "\n",
    "## Team Members:\n",
    "- Brandon Gonzalez\n",
    "- Mark Kalaiji\n",
    "- Joaquin Robles"
   ]
  },
  {
   "cell_type": "code",
   "execution_count": 1,
   "id": "local-pottery",
   "metadata": {},
   "outputs": [],
   "source": [
    "# imports\n",
    "import pandas as pd\n",
    "import numpy as np"
   ]
  },
  {
   "cell_type": "code",
   "execution_count": 2,
   "id": "minus-header",
   "metadata": {},
   "outputs": [
    {
     "data": {
      "text/plain": [
       "(20259, 42)"
      ]
     },
     "execution_count": 2,
     "metadata": {},
     "output_type": "execute_result"
    }
   ],
   "source": [
    "# reading the .csv and seeing its size\n",
    "gender_df = pd.read_csv('attributes.csv')\n",
    "gender_df.shape"
   ]
  },
  {
   "cell_type": "code",
   "execution_count": 3,
   "id": "chief-dodge",
   "metadata": {},
   "outputs": [
    {
     "data": {
      "text/html": [
       "<div>\n",
       "<style scoped>\n",
       "    .dataframe tbody tr th:only-of-type {\n",
       "        vertical-align: middle;\n",
       "    }\n",
       "\n",
       "    .dataframe tbody tr th {\n",
       "        vertical-align: top;\n",
       "    }\n",
       "\n",
       "    .dataframe thead th {\n",
       "        text-align: right;\n",
       "    }\n",
       "</style>\n",
       "<table border=\"1\" class=\"dataframe\">\n",
       "  <thead>\n",
       "    <tr style=\"text-align: right;\">\n",
       "      <th></th>\n",
       "      <th>Unnamed: 0</th>\n",
       "      <th>image_id</th>\n",
       "      <th>5_o_Clock_Shadow</th>\n",
       "      <th>Arched_Eyebrows</th>\n",
       "      <th>Attractive</th>\n",
       "      <th>Bags_Under_Eyes</th>\n",
       "      <th>Bald</th>\n",
       "      <th>Bangs</th>\n",
       "      <th>Big_Lips</th>\n",
       "      <th>Big_Nose</th>\n",
       "      <th>...</th>\n",
       "      <th>Sideburns</th>\n",
       "      <th>Smiling</th>\n",
       "      <th>Straight_Hair</th>\n",
       "      <th>Wavy_Hair</th>\n",
       "      <th>Wearing_Earrings</th>\n",
       "      <th>Wearing_Hat</th>\n",
       "      <th>Wearing_Lipstick</th>\n",
       "      <th>Wearing_Necklace</th>\n",
       "      <th>Wearing_Necktie</th>\n",
       "      <th>Young</th>\n",
       "    </tr>\n",
       "  </thead>\n",
       "  <tbody>\n",
       "    <tr>\n",
       "      <th>0</th>\n",
       "      <td>50733</td>\n",
       "      <td>050734.jpg</td>\n",
       "      <td>-1</td>\n",
       "      <td>-1</td>\n",
       "      <td>1</td>\n",
       "      <td>-1</td>\n",
       "      <td>-1</td>\n",
       "      <td>1</td>\n",
       "      <td>1</td>\n",
       "      <td>-1</td>\n",
       "      <td>...</td>\n",
       "      <td>-1</td>\n",
       "      <td>1</td>\n",
       "      <td>-1</td>\n",
       "      <td>1</td>\n",
       "      <td>-1</td>\n",
       "      <td>-1</td>\n",
       "      <td>-1</td>\n",
       "      <td>-1</td>\n",
       "      <td>-1</td>\n",
       "      <td>1</td>\n",
       "    </tr>\n",
       "    <tr>\n",
       "      <th>1</th>\n",
       "      <td>88879</td>\n",
       "      <td>088880.jpg</td>\n",
       "      <td>-1</td>\n",
       "      <td>-1</td>\n",
       "      <td>1</td>\n",
       "      <td>-1</td>\n",
       "      <td>-1</td>\n",
       "      <td>-1</td>\n",
       "      <td>-1</td>\n",
       "      <td>-1</td>\n",
       "      <td>...</td>\n",
       "      <td>-1</td>\n",
       "      <td>1</td>\n",
       "      <td>-1</td>\n",
       "      <td>1</td>\n",
       "      <td>1</td>\n",
       "      <td>-1</td>\n",
       "      <td>1</td>\n",
       "      <td>-1</td>\n",
       "      <td>-1</td>\n",
       "      <td>1</td>\n",
       "    </tr>\n",
       "    <tr>\n",
       "      <th>2</th>\n",
       "      <td>137280</td>\n",
       "      <td>137281.jpg</td>\n",
       "      <td>-1</td>\n",
       "      <td>-1</td>\n",
       "      <td>-1</td>\n",
       "      <td>1</td>\n",
       "      <td>-1</td>\n",
       "      <td>-1</td>\n",
       "      <td>-1</td>\n",
       "      <td>1</td>\n",
       "      <td>...</td>\n",
       "      <td>-1</td>\n",
       "      <td>1</td>\n",
       "      <td>-1</td>\n",
       "      <td>-1</td>\n",
       "      <td>1</td>\n",
       "      <td>-1</td>\n",
       "      <td>1</td>\n",
       "      <td>-1</td>\n",
       "      <td>-1</td>\n",
       "      <td>-1</td>\n",
       "    </tr>\n",
       "    <tr>\n",
       "      <th>3</th>\n",
       "      <td>119289</td>\n",
       "      <td>119290.jpg</td>\n",
       "      <td>-1</td>\n",
       "      <td>-1</td>\n",
       "      <td>1</td>\n",
       "      <td>-1</td>\n",
       "      <td>-1</td>\n",
       "      <td>1</td>\n",
       "      <td>-1</td>\n",
       "      <td>-1</td>\n",
       "      <td>...</td>\n",
       "      <td>-1</td>\n",
       "      <td>-1</td>\n",
       "      <td>-1</td>\n",
       "      <td>-1</td>\n",
       "      <td>-1</td>\n",
       "      <td>-1</td>\n",
       "      <td>-1</td>\n",
       "      <td>-1</td>\n",
       "      <td>-1</td>\n",
       "      <td>1</td>\n",
       "    </tr>\n",
       "    <tr>\n",
       "      <th>4</th>\n",
       "      <td>28943</td>\n",
       "      <td>028944.jpg</td>\n",
       "      <td>1</td>\n",
       "      <td>-1</td>\n",
       "      <td>1</td>\n",
       "      <td>-1</td>\n",
       "      <td>-1</td>\n",
       "      <td>-1</td>\n",
       "      <td>-1</td>\n",
       "      <td>-1</td>\n",
       "      <td>...</td>\n",
       "      <td>-1</td>\n",
       "      <td>-1</td>\n",
       "      <td>-1</td>\n",
       "      <td>-1</td>\n",
       "      <td>-1</td>\n",
       "      <td>-1</td>\n",
       "      <td>-1</td>\n",
       "      <td>-1</td>\n",
       "      <td>-1</td>\n",
       "      <td>1</td>\n",
       "    </tr>\n",
       "  </tbody>\n",
       "</table>\n",
       "<p>5 rows × 42 columns</p>\n",
       "</div>"
      ],
      "text/plain": [
       "   Unnamed: 0    image_id  5_o_Clock_Shadow  Arched_Eyebrows  Attractive  \\\n",
       "0       50733  050734.jpg                -1               -1           1   \n",
       "1       88879  088880.jpg                -1               -1           1   \n",
       "2      137280  137281.jpg                -1               -1          -1   \n",
       "3      119289  119290.jpg                -1               -1           1   \n",
       "4       28943  028944.jpg                 1               -1           1   \n",
       "\n",
       "   Bags_Under_Eyes  Bald  Bangs  Big_Lips  Big_Nose  ...  Sideburns  Smiling  \\\n",
       "0               -1    -1      1         1        -1  ...         -1        1   \n",
       "1               -1    -1     -1        -1        -1  ...         -1        1   \n",
       "2                1    -1     -1        -1         1  ...         -1        1   \n",
       "3               -1    -1      1        -1        -1  ...         -1       -1   \n",
       "4               -1    -1     -1        -1        -1  ...         -1       -1   \n",
       "\n",
       "   Straight_Hair  Wavy_Hair  Wearing_Earrings  Wearing_Hat  Wearing_Lipstick  \\\n",
       "0             -1          1                -1           -1                -1   \n",
       "1             -1          1                 1           -1                 1   \n",
       "2             -1         -1                 1           -1                 1   \n",
       "3             -1         -1                -1           -1                -1   \n",
       "4             -1         -1                -1           -1                -1   \n",
       "\n",
       "   Wearing_Necklace  Wearing_Necktie  Young  \n",
       "0                -1               -1      1  \n",
       "1                -1               -1      1  \n",
       "2                -1               -1     -1  \n",
       "3                -1               -1      1  \n",
       "4                -1               -1      1  \n",
       "\n",
       "[5 rows x 42 columns]"
      ]
     },
     "execution_count": 3,
     "metadata": {},
     "output_type": "execute_result"
    }
   ],
   "source": [
    "# seeing what features the columns provide\n",
    "gender_df.head()"
   ]
  },
  {
   "cell_type": "code",
   "execution_count": 4,
   "id": "latter-uniform",
   "metadata": {},
   "outputs": [],
   "source": [
    "# feature matrix and label vector\n",
    "X = gender_df[['5_o_Clock_Shadow', 'Arched_Eyebrows', 'Attractive',\n",
    "       'Bags_Under_Eyes', 'Bald', 'Bangs', 'Big_Lips', 'Big_Nose',\n",
    "       'Black_Hair', 'Blond_Hair', 'Blurry', 'Brown_Hair', 'Bushy_Eyebrows',\n",
    "       'Chubby', 'Double_Chin', 'Eyeglasses', 'Goatee', 'Gray_Hair',\n",
    "       'Heavy_Makeup', 'High_Cheekbones', 'Mouth_Slightly_Open',\n",
    "       'Mustache', 'Narrow_Eyes', 'No_Beard', 'Oval_Face', 'Pale_Skin',\n",
    "       'Pointy_Nose', 'Receding_Hairline', 'Rosy_Cheeks', 'Sideburns',\n",
    "       'Smiling', 'Straight_Hair', 'Wavy_Hair', 'Wearing_Earrings',\n",
    "       'Wearing_Hat', 'Wearing_Lipstick', 'Wearing_Necklace',\n",
    "       'Wearing_Necktie', 'Young']]\n",
    "y = gender_df['Male']"
   ]
  },
  {
   "cell_type": "code",
   "execution_count": 5,
   "id": "artificial-ottawa",
   "metadata": {},
   "outputs": [],
   "source": [
    "# split data set into testing and training\n",
    "from sklearn.model_selection import train_test_split\n",
    "X_train, X_test, y_train, y_test = train_test_split(X, y, test_size=0.3, random_state=2)"
   ]
  },
  {
   "cell_type": "markdown",
   "id": "alternate-elimination",
   "metadata": {},
   "source": [
    "# Decision Tree"
   ]
  },
  {
   "cell_type": "markdown",
   "id": "binding-poland",
   "metadata": {},
   "source": [
    "## Decision Tree Accuracy"
   ]
  },
  {
   "cell_type": "code",
   "execution_count": 6,
   "id": "romance-defense",
   "metadata": {},
   "outputs": [
    {
     "name": "stdout",
     "output_type": "stream",
     "text": [
      "Decision Tree Accuracy: 91.24712076340901 %\n"
     ]
    }
   ],
   "source": [
    "# decision tree\n",
    "from sklearn.tree import DecisionTreeClassifier\n",
    "\n",
    "gender_dt = DecisionTreeClassifier(random_state=2)\n",
    "\n",
    "# training on training set\n",
    "gender_dt.fit(X_train, y_train)\n",
    "\n",
    "# testing on testing set\n",
    "y_predict_dt = gender_dt.predict(X_test)\n",
    "\n",
    "# calculate the accuracy\n",
    "from sklearn.metrics import accuracy_score\n",
    "\n",
    "accuracy_dt = accuracy_score(y_test, y_predict_dt)\n",
    "print('Decision Tree Accuracy:', accuracy_dt*100,'%')"
   ]
  },
  {
   "cell_type": "markdown",
   "id": "driven-license",
   "metadata": {},
   "source": [
    "## Decision Tree Area Under Curve"
   ]
  },
  {
   "cell_type": "code",
   "execution_count": 7,
   "id": "specific-discipline",
   "metadata": {},
   "outputs": [
    {
     "name": "stdout",
     "output_type": "stream",
     "text": [
      "AUC Decision Tree = 92.433627028966 %\n"
     ]
    }
   ],
   "source": [
    "# predict probability of 'Male'\n",
    "y_predict_prob_dt = gender_dt.predict_proba(X_test)\n",
    "\n",
    "# get tpr and fpr for auc\n",
    "from sklearn import metrics\n",
    "\n",
    "fpr_dt, tpr_dt, thresholds = metrics.roc_curve(y_test, y_predict_prob_dt[:,1], pos_label=1)\n",
    "\n",
    "# auc\n",
    "AUC_dt = metrics.auc(fpr_dt, tpr_dt)\n",
    "print('AUC Decision Tree =',AUC_dt*100,'%')"
   ]
  },
  {
   "cell_type": "markdown",
   "id": "agricultural-american",
   "metadata": {},
   "source": [
    "## Decision Tree ROC Curve"
   ]
  },
  {
   "cell_type": "code",
   "execution_count": 8,
   "id": "early-layer",
   "metadata": {},
   "outputs": [
    {
     "data": {
      "image/png": "[encoded data removed]",
      "text/plain": [
       "<Figure size 432x288 with 1 Axes>"
      ]
     },
     "metadata": {
      "needs_background": "light"
     },
     "output_type": "display_data"
    }
   ],
   "source": [
    "# plot roc curve\n",
    "import matplotlib.pyplot as plt\n",
    "\n",
    "# keep plot inside page\n",
    "%matplotlib inline\n",
    "\n",
    "plt.figure()\n",
    "\n",
    "# roc curve\n",
    "plt.plot(fpr_dt, tpr_dt, color='red', lw=2, \n",
    "         label='ROC Curve (area = %0.2f)' % AUC_dt)\n",
    "\n",
    "# random guess line\n",
    "plt.plot([0, 1], [0, 1], color='blue', lw=1, linestyle='--')\n",
    "\n",
    "# defining the range of X-Axis and Y-Axis\n",
    "plt.xlim([-0.005, 1.005])\n",
    "plt.ylim([0.0, 1.01])\n",
    "\n",
    "# labels, title, legend\n",
    "plt.xlabel('False Positive Rate')\n",
    "plt.ylabel('True Positive Rate')\n",
    "plt.title('Gender Classification Decision Tree')\n",
    "plt.legend(loc=\"lower right\")\n",
    "\n",
    "plt.show()"
   ]
  },
  {
   "cell_type": "markdown",
   "id": "golden-coverage",
   "metadata": {},
   "source": [
    "# SVM"
   ]
  },
  {
   "cell_type": "markdown",
   "id": "personalized-petersburg",
   "metadata": {},
   "source": [
    "## SVM Accuracy"
   ]
  },
  {
   "cell_type": "code",
   "execution_count": 9,
   "id": "authentic-invitation",
   "metadata": {},
   "outputs": [
    {
     "name": "stdout",
     "output_type": "stream",
     "text": [
      "SVM Accuracy: 91.57617637380717 %\n"
     ]
    }
   ],
   "source": [
    "# SVM\n",
    "from sklearn.svm import SVC\n",
    "\n",
    "gender_svm = SVC(C=1, kernel='rbf', gamma=0.0005, random_state=1, probability=True)\n",
    "\n",
    "# training on training set\n",
    "gender_svm.fit(X_train, y_train)\n",
    "\n",
    "# testing on testing set\n",
    "y_predict_svm = gender_svm.predict(X_test)\n",
    "\n",
    "# calculate the accuracy\n",
    "from sklearn.metrics import accuracy_score\n",
    "\n",
    "accuracy_svm = accuracy_score(y_test, y_predict_svm)\n",
    "print('SVM Accuracy:', accuracy_svm*100,'%')"
   ]
  },
  {
   "cell_type": "markdown",
   "id": "interracial-semiconductor",
   "metadata": {},
   "source": [
    "## SVM Area Under Curve"
   ]
  },
  {
   "cell_type": "code",
   "execution_count": 10,
   "id": "numeric-silly",
   "metadata": {},
   "outputs": [
    {
     "name": "stdout",
     "output_type": "stream",
     "text": [
      "AUC SVM = 98.47416711505696 %\n"
     ]
    }
   ],
   "source": [
    "# predict probability of 'Male'\n",
    "y_predict_prob_svm = gender_svm.predict_proba(X_test)\n",
    "\n",
    "# get tpr and fpr for auc\n",
    "from sklearn import metrics\n",
    "\n",
    "fpr_svm, tpr_svm, thresholds = metrics.roc_curve(y_test, y_predict_prob_svm[:,1], pos_label=1)\n",
    "\n",
    "# auc\n",
    "AUC_svm = metrics.auc(fpr_svm, tpr_svm)\n",
    "print('AUC SVM =',AUC_svm*100,'%')"
   ]
  },
  {
   "cell_type": "markdown",
   "id": "political-destiny",
   "metadata": {},
   "source": [
    "## SVM ROC Curve"
   ]
  },
  {
   "cell_type": "code",
   "execution_count": 11,
   "id": "european-accessory",
   "metadata": {},
   "outputs": [
    {
     "data": {
      "image/png": "[encoded data removed]",
      "text/plain": [
       "<Figure size 432x288 with 1 Axes>"
      ]
     },
     "metadata": {
      "needs_background": "light"
     },
     "output_type": "display_data"
    }
   ],
   "source": [
    "# plot roc curve\n",
    "import matplotlib.pyplot as plt\n",
    "\n",
    "# keep plot inside page\n",
    "%matplotlib inline\n",
    "\n",
    "plt.figure()\n",
    "\n",
    "# roc curve\n",
    "plt.plot(fpr_svm, tpr_svm, color='red', lw=2, \n",
    "         label='ROC Curve (area = %0.2f)' % AUC_svm)\n",
    "\n",
    "# random guess line\n",
    "plt.plot([0, 1], [0, 1], color='blue', lw=1, linestyle='--')\n",
    "\n",
    "# defining the range of X-Axis and Y-Axis\n",
    "plt.xlim([-0.005, 1.005])\n",
    "plt.ylim([0.0, 1.01])\n",
    "\n",
    "# labels, title, legend\n",
    "plt.xlabel('False Positive Rate')\n",
    "plt.ylabel('True Positive Rate')\n",
    "plt.title('Gender Classification SVM')\n",
    "plt.legend(loc=\"lower right\")\n",
    "\n",
    "plt.show()"
   ]
  },
  {
   "cell_type": "markdown",
   "id": "integrated-mortgage",
   "metadata": {},
   "source": [
    "# Random Forest"
   ]
  },
  {
   "cell_type": "markdown",
   "id": "behavioral-semester",
   "metadata": {},
   "source": [
    "### Random Forest Accuracy"
   ]
  },
  {
   "cell_type": "code",
   "execution_count": 12,
   "id": "partial-research",
   "metadata": {},
   "outputs": [
    {
     "name": "stdout",
     "output_type": "stream",
     "text": [
      "Random Forest Accuracy: 91.24712076340901 %\n"
     ]
    }
   ],
   "source": [
    "from sklearn.ensemble import RandomForestClassifier\n",
    "\n",
    "# gender_rf = RandomForestClassifier(n_estimators = 155, bootstrap = True, random_state=9)\n",
    "gender_rf = RandomForestClassifier(n_estimators = 29, bootstrap = True, random_state=2)\n",
    "# gender_rf = RandomForestClassifier(n_estimators = 1000, bootstrap = True, random_state=42)\n",
    "\n",
    "# training on training set\n",
    "gender_rf.fit(X_train, y_train)\n",
    "\n",
    "# testing on testing set\n",
    "y_predict_rf = gender_dt.predict(X_test)\n",
    "\n",
    "# calculate the accuracy\n",
    "from sklearn.metrics import accuracy_score\n",
    "\n",
    "accuracy_rf = accuracy_score(y_test, y_predict_rf)\n",
    "print('Random Forest Accuracy:', accuracy_rf*100,'%')"
   ]
  },
  {
   "cell_type": "markdown",
   "id": "jewish-plane",
   "metadata": {},
   "source": [
    "### Random Forest Area Under Curve"
   ]
  },
  {
   "cell_type": "code",
   "execution_count": 13,
   "id": "owned-anchor",
   "metadata": {},
   "outputs": [
    {
     "name": "stdout",
     "output_type": "stream",
     "text": [
      "AUC Random Forest = 98.010385839835 %\n"
     ]
    }
   ],
   "source": [
    "# predict probability of 'Male'\n",
    "y_predict_prob_rf = gender_rf.predict_proba(X_test)\n",
    "\n",
    "# get tpr and fpr for auc\n",
    "from sklearn import metrics\n",
    "\n",
    "fpr_rf, tpr_rf, thresholds = metrics.roc_curve(y_test, y_predict_prob_rf[:,1], pos_label=1)\n",
    "\n",
    "# auc\n",
    "AUC_rf = metrics.auc(fpr_rf, tpr_rf)\n",
    "print('AUC Random Forest =',AUC_rf*100,'%')"
   ]
  },
  {
   "cell_type": "markdown",
   "id": "capable-denver",
   "metadata": {},
   "source": [
    "### Random Forest ROC Curve"
   ]
  },
  {
   "cell_type": "code",
   "execution_count": 14,
   "id": "injured-catholic",
   "metadata": {},
   "outputs": [
    {
     "data": {
      "image/png": "[encoded data removed]",
      "text/plain": [
       "<Figure size 432x288 with 1 Axes>"
      ]
     },
     "metadata": {
      "needs_background": "light"
     },
     "output_type": "display_data"
    }
   ],
   "source": [
    "# plot roc curve\n",
    "import matplotlib.pyplot as plt\n",
    "\n",
    "# keep plot inside page\n",
    "%matplotlib inline\n",
    "\n",
    "plt.figure()\n",
    "\n",
    "# roc curve\n",
    "plt.plot(fpr_rf, tpr_rf, color='red', lw=2, \n",
    "         label='ROC Curve (area = %0.2f)' % AUC_rf)\n",
    "\n",
    "# random guess line\n",
    "plt.plot([0, 1], [0, 1], color='blue', lw=1, linestyle='--')\n",
    "\n",
    "# defining the range of X-Axis and Y-Axis\n",
    "plt.xlim([-0.005, 1.005])\n",
    "plt.ylim([0.0, 1.01])\n",
    "\n",
    "# labels, title, legend\n",
    "plt.xlabel('False Positive Rate')\n",
    "plt.ylabel('True Positive Rate')\n",
    "plt.title('Gender Classification Random Forest')\n",
    "plt.legend(loc=\"lower right\")\n",
    "\n",
    "plt.show()"
   ]
  },
  {
   "cell_type": "code",
   "execution_count": 15,
   "id": "controlling-popularity",
   "metadata": {},
   "outputs": [],
   "source": [
    "# mark cnn"
   ]
  },
  {
   "cell_type": "code",
   "execution_count": null,
   "id": "imposed-zimbabwe",
   "metadata": {},
   "outputs": [],
   "source": []
  }
 ],
 "metadata": {
  "kernelspec": {
   "display_name": "Python 3",
   "language": "python",
   "name": "python3"
  },
  "language_info": {
   "codemirror_mode": {
    "name": "ipython",
    "version": 3
   },
   "file_extension": ".py",
   "mimetype": "text/x-python",
   "name": "python",
   "nbconvert_exporter": "python",
   "pygments_lexer": "ipython3",
   "version": "3.8.8"
  }
 },
 "nbformat": 4,
 "nbformat_minor": 5
}
