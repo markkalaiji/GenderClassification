{
 "cells": [
  {
   "cell_type": "markdown",
   "id": "dated-flower",
   "metadata": {},
   "source": [
    "# CS 4662 Project - Gender Classification 👨 👩\n",
    "\n",
    "## Team Members:\n",
    "- Brandon Gonzalez\n",
    "- Mark Kalaiji\n",
    "- Joaquin Robles"
   ]
  },
  {
   "cell_type": "code",
   "execution_count": null,
   "id": "moral-container",
   "metadata": {},
   "outputs": [],
   "source": [
    "# imports\n",
    "import pandas as pd\n",
    "import numpy as np"
   ]
  }
 ],
 "metadata": {
  "kernelspec": {
   "display_name": "Python 3",
   "language": "python",
   "name": "python3"
  },
  "language_info": {
   "codemirror_mode": {
    "name": "ipython",
    "version": 3
   },
   "file_extension": ".py",
   "mimetype": "text/x-python",
   "name": "python",
   "nbconvert_exporter": "python",
   "pygments_lexer": "ipython3",
   "version": "3.8.8"
  }
 },
 "nbformat": 4,
 "nbformat_minor": 5
}
