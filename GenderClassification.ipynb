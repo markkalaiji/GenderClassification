{
 "cells": [
  {
   "cell_type": "markdown",
   "id": "editorial-response",
   "metadata": {},
   "source": [
    "# CS 4662 Project - Gender Classification 👨 👩\n",
    "\n",
    "## Team Members:\n",
    "- Brandon Gonzalez\n",
    "- Mark Kalaiji\n",
    "- Joaquin Robles"
   ]
  },
  {
   "cell_type": "code",
   "execution_count": 1,
   "id": "hydraulic-cause",
   "metadata": {},
   "outputs": [],
   "source": [
    "import pandas as pd\n",
    "import numpy as np"
   ]
  },
  {
   "cell_type": "code",
   "execution_count": 2,
   "id": "downtown-organ",
   "metadata": {},
   "outputs": [
    {
     "data": {
      "text/plain": [
       "(20259, 42)"
      ]
     },
     "execution_count": 2,
     "metadata": {},
     "output_type": "execute_result"
    }
   ],
   "source": [
    "# reading the .csv and seeing its size\n",
    "gender_df = pd.read_csv('attributes.csv')\n",
    "gender_df.shape"
   ]
  },
  {
   "cell_type": "code",
   "execution_count": 3,
   "id": "compact-locator",
   "metadata": {},
   "outputs": [
    {
     "data": {
      "text/plain": [
       "(1000, 42)"
      ]
     },
     "execution_count": 3,
     "metadata": {},
     "output_type": "execute_result"
    }
   ],
   "source": [
    "# since image pool is too large to compute it was scaled down to 1000 images\n",
    "gender_df = gender_df.iloc[:1000,:] # want first 1000 rows, and all columns\n",
    "gender_df.shape"
   ]
  },
  {
   "cell_type": "code",
   "execution_count": 4,
   "id": "bearing-transcription",
   "metadata": {},
   "outputs": [
    {
     "data": {
      "text/html": [
       "<div>\n",
       "<style scoped>\n",
       "    .dataframe tbody tr th:only-of-type {\n",
       "        vertical-align: middle;\n",
       "    }\n",
       "\n",
       "    .dataframe tbody tr th {\n",
       "        vertical-align: top;\n",
       "    }\n",
       "\n",
       "    .dataframe thead th {\n",
       "        text-align: right;\n",
       "    }\n",
       "</style>\n",
       "<table border=\"1\" class=\"dataframe\">\n",
       "  <thead>\n",
       "    <tr style=\"text-align: right;\">\n",
       "      <th></th>\n",
       "      <th>Unnamed: 0</th>\n",
       "      <th>image_id</th>\n",
       "      <th>5_o_Clock_Shadow</th>\n",
       "      <th>Arched_Eyebrows</th>\n",
       "      <th>Attractive</th>\n",
       "      <th>Bags_Under_Eyes</th>\n",
       "      <th>Bald</th>\n",
       "      <th>Bangs</th>\n",
       "      <th>Big_Lips</th>\n",
       "      <th>Big_Nose</th>\n",
       "      <th>...</th>\n",
       "      <th>Sideburns</th>\n",
       "      <th>Smiling</th>\n",
       "      <th>Straight_Hair</th>\n",
       "      <th>Wavy_Hair</th>\n",
       "      <th>Wearing_Earrings</th>\n",
       "      <th>Wearing_Hat</th>\n",
       "      <th>Wearing_Lipstick</th>\n",
       "      <th>Wearing_Necklace</th>\n",
       "      <th>Wearing_Necktie</th>\n",
       "      <th>Young</th>\n",
       "    </tr>\n",
       "  </thead>\n",
       "  <tbody>\n",
       "    <tr>\n",
       "      <th>0</th>\n",
       "      <td>50733</td>\n",
       "      <td>050734.jpg</td>\n",
       "      <td>-1</td>\n",
       "      <td>-1</td>\n",
       "      <td>1</td>\n",
       "      <td>-1</td>\n",
       "      <td>-1</td>\n",
       "      <td>1</td>\n",
       "      <td>1</td>\n",
       "      <td>-1</td>\n",
       "      <td>...</td>\n",
       "      <td>-1</td>\n",
       "      <td>1</td>\n",
       "      <td>-1</td>\n",
       "      <td>1</td>\n",
       "      <td>-1</td>\n",
       "      <td>-1</td>\n",
       "      <td>-1</td>\n",
       "      <td>-1</td>\n",
       "      <td>-1</td>\n",
       "      <td>1</td>\n",
       "    </tr>\n",
       "    <tr>\n",
       "      <th>1</th>\n",
       "      <td>88879</td>\n",
       "      <td>088880.jpg</td>\n",
       "      <td>-1</td>\n",
       "      <td>-1</td>\n",
       "      <td>1</td>\n",
       "      <td>-1</td>\n",
       "      <td>-1</td>\n",
       "      <td>-1</td>\n",
       "      <td>-1</td>\n",
       "      <td>-1</td>\n",
       "      <td>...</td>\n",
       "      <td>-1</td>\n",
       "      <td>1</td>\n",
       "      <td>-1</td>\n",
       "      <td>1</td>\n",
       "      <td>1</td>\n",
       "      <td>-1</td>\n",
       "      <td>1</td>\n",
       "      <td>-1</td>\n",
       "      <td>-1</td>\n",
       "      <td>1</td>\n",
       "    </tr>\n",
       "    <tr>\n",
       "      <th>2</th>\n",
       "      <td>137280</td>\n",
       "      <td>137281.jpg</td>\n",
       "      <td>-1</td>\n",
       "      <td>-1</td>\n",
       "      <td>-1</td>\n",
       "      <td>1</td>\n",
       "      <td>-1</td>\n",
       "      <td>-1</td>\n",
       "      <td>-1</td>\n",
       "      <td>1</td>\n",
       "      <td>...</td>\n",
       "      <td>-1</td>\n",
       "      <td>1</td>\n",
       "      <td>-1</td>\n",
       "      <td>-1</td>\n",
       "      <td>1</td>\n",
       "      <td>-1</td>\n",
       "      <td>1</td>\n",
       "      <td>-1</td>\n",
       "      <td>-1</td>\n",
       "      <td>-1</td>\n",
       "    </tr>\n",
       "    <tr>\n",
       "      <th>3</th>\n",
       "      <td>119289</td>\n",
       "      <td>119290.jpg</td>\n",
       "      <td>-1</td>\n",
       "      <td>-1</td>\n",
       "      <td>1</td>\n",
       "      <td>-1</td>\n",
       "      <td>-1</td>\n",
       "      <td>1</td>\n",
       "      <td>-1</td>\n",
       "      <td>-1</td>\n",
       "      <td>...</td>\n",
       "      <td>-1</td>\n",
       "      <td>-1</td>\n",
       "      <td>-1</td>\n",
       "      <td>-1</td>\n",
       "      <td>-1</td>\n",
       "      <td>-1</td>\n",
       "      <td>-1</td>\n",
       "      <td>-1</td>\n",
       "      <td>-1</td>\n",
       "      <td>1</td>\n",
       "    </tr>\n",
       "    <tr>\n",
       "      <th>4</th>\n",
       "      <td>28943</td>\n",
       "      <td>028944.jpg</td>\n",
       "      <td>1</td>\n",
       "      <td>-1</td>\n",
       "      <td>1</td>\n",
       "      <td>-1</td>\n",
       "      <td>-1</td>\n",
       "      <td>-1</td>\n",
       "      <td>-1</td>\n",
       "      <td>-1</td>\n",
       "      <td>...</td>\n",
       "      <td>-1</td>\n",
       "      <td>-1</td>\n",
       "      <td>-1</td>\n",
       "      <td>-1</td>\n",
       "      <td>-1</td>\n",
       "      <td>-1</td>\n",
       "      <td>-1</td>\n",
       "      <td>-1</td>\n",
       "      <td>-1</td>\n",
       "      <td>1</td>\n",
       "    </tr>\n",
       "  </tbody>\n",
       "</table>\n",
       "<p>5 rows × 42 columns</p>\n",
       "</div>"
      ],
      "text/plain": [
       "   Unnamed: 0    image_id  5_o_Clock_Shadow  Arched_Eyebrows  Attractive  \\\n",
       "0       50733  050734.jpg                -1               -1           1   \n",
       "1       88879  088880.jpg                -1               -1           1   \n",
       "2      137280  137281.jpg                -1               -1          -1   \n",
       "3      119289  119290.jpg                -1               -1           1   \n",
       "4       28943  028944.jpg                 1               -1           1   \n",
       "\n",
       "   Bags_Under_Eyes  Bald  Bangs  Big_Lips  Big_Nose  ...  Sideburns  Smiling  \\\n",
       "0               -1    -1      1         1        -1  ...         -1        1   \n",
       "1               -1    -1     -1        -1        -1  ...         -1        1   \n",
       "2                1    -1     -1        -1         1  ...         -1        1   \n",
       "3               -1    -1      1        -1        -1  ...         -1       -1   \n",
       "4               -1    -1     -1        -1        -1  ...         -1       -1   \n",
       "\n",
       "   Straight_Hair  Wavy_Hair  Wearing_Earrings  Wearing_Hat  Wearing_Lipstick  \\\n",
       "0             -1          1                -1           -1                -1   \n",
       "1             -1          1                 1           -1                 1   \n",
       "2             -1         -1                 1           -1                 1   \n",
       "3             -1         -1                -1           -1                -1   \n",
       "4             -1         -1                -1           -1                -1   \n",
       "\n",
       "   Wearing_Necklace  Wearing_Necktie  Young  \n",
       "0                -1               -1      1  \n",
       "1                -1               -1      1  \n",
       "2                -1               -1     -1  \n",
       "3                -1               -1      1  \n",
       "4                -1               -1      1  \n",
       "\n",
       "[5 rows x 42 columns]"
      ]
     },
     "execution_count": 4,
     "metadata": {},
     "output_type": "execute_result"
    }
   ],
   "source": [
    "# seeing what features the columns provide\n",
    "gender_df.head()"
   ]
  },
  {
   "cell_type": "code",
   "execution_count": 5,
   "id": "graphic-modification",
   "metadata": {},
   "outputs": [],
   "source": [
    "# feature matrix and label vector\n",
    "X = gender_df[['image_id', '5_o_Clock_Shadow', 'Arched_Eyebrows', 'Attractive',\n",
    "       'Bags_Under_Eyes', 'Bald', 'Bangs', 'Big_Lips', 'Big_Nose',\n",
    "       'Black_Hair', 'Blond_Hair', 'Blurry', 'Brown_Hair', 'Bushy_Eyebrows',\n",
    "       'Chubby', 'Double_Chin', 'Eyeglasses', 'Goatee', 'Gray_Hair',\n",
    "       'Heavy_Makeup', 'High_Cheekbones', 'Mouth_Slightly_Open',\n",
    "       'Mustache', 'Narrow_Eyes', 'No_Beard', 'Oval_Face', 'Pale_Skin',\n",
    "       'Pointy_Nose', 'Receding_Hairline', 'Rosy_Cheeks', 'Sideburns',\n",
    "       'Smiling', 'Straight_Hair', 'Wavy_Hair', 'Wearing_Earrings',\n",
    "       'Wearing_Hat', 'Wearing_Lipstick', 'Wearing_Necklace',\n",
    "       'Wearing_Necktie', 'Young']]\n",
    "y = gender_df['Male']"
   ]
  },
  {
   "cell_type": "code",
   "execution_count": 6,
   "id": "accepted-probability",
   "metadata": {},
   "outputs": [],
   "source": [
    "# split data set into testing and training\n",
    "from sklearn.model_selection import train_test_split\n",
    "X_train, X_test, y_train, y_test = train_test_split(X, y, test_size=0.3, random_state=2)\n",
    "\n",
    "# seperate train and test for features for CNN\n",
    "X_train_cnn = X_train\n",
    "X_test_cnn = X_test\n",
    "\n",
    "# telling train and test to only use all columns after the index and all rows\n",
    "X_train = X_train.iloc[:,1:] # : want all rows / ,1: all columns after first index\n",
    "X_test = X_test.iloc[:,1:]"
   ]
  },
  {
   "cell_type": "markdown",
   "id": "authentic-story",
   "metadata": {},
   "source": [
    "# Decision Tree"
   ]
  },
  {
   "cell_type": "markdown",
   "id": "auburn-journalist",
   "metadata": {},
   "source": [
    "## Decision Tree Accuracy"
   ]
  },
  {
   "cell_type": "code",
   "execution_count": 7,
   "id": "sealed-transcription",
   "metadata": {},
   "outputs": [
    {
     "name": "stdout",
     "output_type": "stream",
     "text": [
      "Decision Tree Accuracy: 89.0 %\n"
     ]
    }
   ],
   "source": [
    "from sklearn.tree import DecisionTreeClassifier\n",
    "gender_dt = DecisionTreeClassifier(random_state=2)\n",
    "\n",
    "# training on training set\n",
    "gender_dt.fit(X_train, y_train)\n",
    "# testing on testing set\n",
    "y_predict_dt = gender_dt.predict(X_test)\n",
    "\n",
    "# calculate the accuracy\n",
    "from sklearn.metrics import accuracy_score\n",
    "accuracy_dt = accuracy_score(y_test, y_predict_dt)\n",
    "print('Decision Tree Accuracy:', accuracy_dt*100,'%')"
   ]
  },
  {
   "cell_type": "markdown",
   "id": "brazilian-packaging",
   "metadata": {},
   "source": [
    "## Decision Tree Area Under Curve"
   ]
  },
  {
   "cell_type": "code",
   "execution_count": 8,
   "id": "perfect-shore",
   "metadata": {},
   "outputs": [
    {
     "name": "stdout",
     "output_type": "stream",
     "text": [
      "AUC Decision Tree: 89.09414340448824 %\n"
     ]
    }
   ],
   "source": [
    "# predict probability of 'Male'\n",
    "y_predict_prob_dt = gender_dt.predict_proba(X_test)\n",
    "\n",
    "# get tpr and fpr for auc\n",
    "from sklearn import metrics\n",
    "fpr_dt, tpr_dt, thresholds = metrics.roc_curve(y_test, y_predict_prob_dt[:,1], pos_label=1)\n",
    "\n",
    "# auc\n",
    "AUC_dt = metrics.auc(fpr_dt, tpr_dt)\n",
    "print('AUC Decision Tree:',AUC_dt*100,'%')"
   ]
  },
  {
   "cell_type": "markdown",
   "id": "configured-console",
   "metadata": {},
   "source": [
    "## Decision Tree ROC Curve"
   ]
  },
  {
   "cell_type": "code",
   "execution_count": 9,
   "id": "insured-subject",
   "metadata": {},
   "outputs": [
    {
     "data": {
      "image/png": "[encoded data removed]",
      "text/plain": [
       "<Figure size 432x288 with 1 Axes>"
      ]
     },
     "metadata": {
      "needs_background": "light"
     },
     "output_type": "display_data"
    }
   ],
   "source": [
    "import matplotlib.pyplot as plt\n",
    "\n",
    "# keep plot inside page\n",
    "%matplotlib inline\n",
    "\n",
    "plt.figure()\n",
    "\n",
    "# roc curve\n",
    "plt.plot(fpr_dt, tpr_dt, color='red', lw=2, \n",
    "         label='ROC Curve (area = %0.2f)' % AUC_dt)\n",
    "\n",
    "# random guess line\n",
    "plt.plot([0, 1], [0, 1], color='blue', lw=1, linestyle='--')\n",
    "\n",
    "# defining the range of X-Axis and Y-Axis\n",
    "plt.xlim([-0.005, 1.005])\n",
    "plt.ylim([0.0, 1.01])\n",
    "\n",
    "# labels, title, legend\n",
    "plt.xlabel('False Positive Rate')\n",
    "plt.ylabel('True Positive Rate')\n",
    "plt.title('Gender Classification Decision Tree')\n",
    "plt.legend(loc=\"lower right\")\n",
    "\n",
    "plt.show()"
   ]
  },
  {
   "cell_type": "markdown",
   "id": "according-promise",
   "metadata": {},
   "source": [
    "# SVM"
   ]
  },
  {
   "cell_type": "markdown",
   "id": "thirty-pathology",
   "metadata": {},
   "source": [
    "## SVM Accuracy"
   ]
  },
  {
   "cell_type": "code",
   "execution_count": 10,
   "id": "vital-cemetery",
   "metadata": {},
   "outputs": [
    {
     "name": "stdout",
     "output_type": "stream",
     "text": [
      "SVM Accuracy: 91.33333333333333 %\n"
     ]
    }
   ],
   "source": [
    "from sklearn.svm import SVC\n",
    "gender_svm = SVC(C=1, kernel='rbf', gamma=0.0005, random_state=1, probability=True)\n",
    "\n",
    "# training on training set\n",
    "gender_svm.fit(X_train, y_train)\n",
    "# testing on testing set\n",
    "y_predict_svm = gender_svm.predict(X_test)\n",
    "\n",
    "# calculate the accuracy\n",
    "from sklearn.metrics import accuracy_score\n",
    "accuracy_svm = accuracy_score(y_test, y_predict_svm)\n",
    "print('SVM Accuracy:', accuracy_svm*100,'%')"
   ]
  },
  {
   "cell_type": "markdown",
   "id": "chicken-georgia",
   "metadata": {},
   "source": [
    "## SVM Area Under Curve"
   ]
  },
  {
   "cell_type": "code",
   "execution_count": 11,
   "id": "boxed-passing",
   "metadata": {},
   "outputs": [
    {
     "name": "stdout",
     "output_type": "stream",
     "text": [
      "AUC SVM: 97.82430213464696 %\n"
     ]
    }
   ],
   "source": [
    "# predict probability of 'Male'\n",
    "y_predict_prob_svm = gender_svm.predict_proba(X_test)\n",
    "\n",
    "# get tpr and fpr for auc\n",
    "from sklearn import metrics\n",
    "fpr_svm, tpr_svm, thresholds = metrics.roc_curve(y_test, y_predict_prob_svm[:,1], pos_label=1)\n",
    "\n",
    "# auc\n",
    "AUC_svm = metrics.auc(fpr_svm, tpr_svm)\n",
    "print('AUC SVM:',AUC_svm*100,'%')"
   ]
  },
  {
   "cell_type": "markdown",
   "id": "surface-reservoir",
   "metadata": {},
   "source": [
    "## SVM ROC Curve"
   ]
  },
  {
   "cell_type": "code",
   "execution_count": 12,
   "id": "subtle-chinese",
   "metadata": {},
   "outputs": [
    {
     "data": {
      "image/png": "[encoded data removed]",
      "text/plain": [
       "<Figure size 432x288 with 1 Axes>"
      ]
     },
     "metadata": {
      "needs_background": "light"
     },
     "output_type": "display_data"
    }
   ],
   "source": [
    "import matplotlib.pyplot as plt\n",
    "\n",
    "# keep plot inside page\n",
    "%matplotlib inline\n",
    "\n",
    "plt.figure()\n",
    "\n",
    "# roc curve\n",
    "plt.plot(fpr_svm, tpr_svm, color='red', lw=2, \n",
    "         label='ROC Curve (area = %0.2f)' % AUC_svm)\n",
    "\n",
    "# random guess line\n",
    "plt.plot([0, 1], [0, 1], color='blue', lw=1, linestyle='--')\n",
    "\n",
    "# defining the range of X-Axis and Y-Axis\n",
    "plt.xlim([-0.005, 1.005])\n",
    "plt.ylim([0.0, 1.01])\n",
    "\n",
    "# labels, title, legend\n",
    "plt.xlabel('False Positive Rate')\n",
    "plt.ylabel('True Positive Rate')\n",
    "plt.title('Gender Classification SVM')\n",
    "plt.legend(loc=\"lower right\")\n",
    "\n",
    "plt.show()"
   ]
  },
  {
   "cell_type": "markdown",
   "id": "revolutionary-charger",
   "metadata": {},
   "source": [
    "# Random Forest"
   ]
  },
  {
   "cell_type": "markdown",
   "id": "unavailable-jumping",
   "metadata": {},
   "source": [
    "### Random Forest Accuracy"
   ]
  },
  {
   "cell_type": "code",
   "execution_count": 13,
   "id": "sexual-nicholas",
   "metadata": {},
   "outputs": [
    {
     "name": "stdout",
     "output_type": "stream",
     "text": [
      "Random Forest Accuracy: 89.0 %\n"
     ]
    }
   ],
   "source": [
    "from sklearn.ensemble import RandomForestClassifier\n",
    "gender_rf = RandomForestClassifier(n_estimators = 29, bootstrap = True, random_state=2)\n",
    "\n",
    "# training on training set\n",
    "gender_rf.fit(X_train, y_train)\n",
    "# testing on testing set\n",
    "y_predict_rf = gender_dt.predict(X_test)\n",
    "\n",
    "# calculate the accuracy\n",
    "from sklearn.metrics import accuracy_score\n",
    "accuracy_rf = accuracy_score(y_test, y_predict_rf)\n",
    "print('Random Forest Accuracy:', accuracy_rf*100,'%')"
   ]
  },
  {
   "cell_type": "markdown",
   "id": "athletic-joyce",
   "metadata": {},
   "source": [
    "### Random Forest Area Under Curve"
   ]
  },
  {
   "cell_type": "code",
   "execution_count": 14,
   "id": "conventional-minneapolis",
   "metadata": {},
   "outputs": [
    {
     "name": "stdout",
     "output_type": "stream",
     "text": [
      "AUC Random Forest: 97.77412880861156 %\n"
     ]
    }
   ],
   "source": [
    "# predict probability of 'Male'\n",
    "y_predict_prob_rf = gender_rf.predict_proba(X_test)\n",
    "\n",
    "# get tpr and fpr for auc\n",
    "from sklearn import metrics\n",
    "fpr_rf, tpr_rf, thresholds = metrics.roc_curve(y_test, y_predict_prob_rf[:,1], pos_label=1)\n",
    "\n",
    "# auc\n",
    "AUC_rf = metrics.auc(fpr_rf, tpr_rf)\n",
    "print('AUC Random Forest:',AUC_rf*100,'%')"
   ]
  },
  {
   "cell_type": "markdown",
   "id": "elder-slave",
   "metadata": {},
   "source": [
    "### Random Forest ROC Curve"
   ]
  },
  {
   "cell_type": "code",
   "execution_count": 15,
   "id": "valuable-feeding",
   "metadata": {},
   "outputs": [
    {
     "data": {
      "image/png": "[encoded data removed]",
      "text/plain": [
       "<Figure size 432x288 with 1 Axes>"
      ]
     },
     "metadata": {
      "needs_background": "light"
     },
     "output_type": "display_data"
    }
   ],
   "source": [
    "import matplotlib.pyplot as plt\n",
    "\n",
    "# keep plot inside page\n",
    "%matplotlib inline\n",
    "\n",
    "plt.figure()\n",
    "\n",
    "# roc curve\n",
    "plt.plot(fpr_rf, tpr_rf, color='red', lw=2, \n",
    "         label='ROC Curve (area = %0.2f)' % AUC_rf)\n",
    "\n",
    "# random guess line\n",
    "plt.plot([0, 1], [0, 1], color='blue', lw=1, linestyle='--')\n",
    "\n",
    "# defining the range of X-Axis and Y-Axis\n",
    "plt.xlim([-0.005, 1.005])\n",
    "plt.ylim([0.0, 1.01])\n",
    "\n",
    "# labels, title, legend\n",
    "plt.xlabel('False Positive Rate')\n",
    "plt.ylabel('True Positive Rate')\n",
    "plt.title('Gender Classification Random Forest')\n",
    "plt.legend(loc=\"lower right\")\n",
    "\n",
    "plt.show()"
   ]
  },
  {
   "cell_type": "markdown",
   "id": "exclusive-finding",
   "metadata": {},
   "source": [
    "# Ada Boost"
   ]
  },
  {
   "cell_type": "markdown",
   "id": "automated-europe",
   "metadata": {},
   "source": [
    "## Ada Boost Accuracy"
   ]
  },
  {
   "cell_type": "code",
   "execution_count": 16,
   "id": "assured-father",
   "metadata": {},
   "outputs": [
    {
     "name": "stdout",
     "output_type": "stream",
     "text": [
      "Ada Boost Accuracy: 92.66666666666666 %\n"
     ]
    }
   ],
   "source": [
    "from sklearn.ensemble import AdaBoostClassifier\n",
    "gender_adb = AdaBoostClassifier(n_estimators=29,random_state=2)\n",
    "\n",
    "# training on training set\n",
    "gender_adb.fit(X_train, y_train)\n",
    "# testing on testing set\n",
    "y_predict_adb = gender_adb.predict(X_test)\n",
    "\n",
    "# calculate the accuracy\n",
    "from sklearn.metrics import accuracy_score\n",
    "accuracy_adb = accuracy_score(y_test, y_predict_adb)\n",
    "print('Ada Boost Accuracy:', accuracy_adb*100,'%')"
   ]
  },
  {
   "cell_type": "markdown",
   "id": "relevant-belize",
   "metadata": {},
   "source": [
    "## Ada Boost Area Under Curve"
   ]
  },
  {
   "cell_type": "code",
   "execution_count": 17,
   "id": "inside-header",
   "metadata": {},
   "outputs": [
    {
     "name": "stdout",
     "output_type": "stream",
     "text": [
      "AUC Ada Boost: 97.99990877577085 %\n"
     ]
    }
   ],
   "source": [
    "# predict probability of 'Male'\n",
    "y_predict_prob_adb = gender_adb.predict_proba(X_test)\n",
    "\n",
    "# get tpr and fpr for auc\n",
    "from sklearn import metrics\n",
    "fpr_adb, tpr_adb, thresholds = metrics.roc_curve(y_test, y_predict_prob_adb[:,1], pos_label=1)\n",
    "\n",
    "# auc\n",
    "AUC_adb = metrics.auc(fpr_adb, tpr_adb)\n",
    "print('AUC Ada Boost:',AUC_adb*100,'%')"
   ]
  },
  {
   "cell_type": "markdown",
   "id": "rough-appeal",
   "metadata": {},
   "source": [
    "## Ada Boost ROC Curve"
   ]
  },
  {
   "cell_type": "code",
   "execution_count": 18,
   "id": "chubby-armenia",
   "metadata": {},
   "outputs": [
    {
     "data": {
      "image/png": "[encoded data removed]",
      "text/plain": [
       "<Figure size 432x288 with 1 Axes>"
      ]
     },
     "metadata": {
      "needs_background": "light"
     },
     "output_type": "display_data"
    }
   ],
   "source": [
    "import matplotlib.pyplot as plt\n",
    "\n",
    "# keep plot inside page\n",
    "%matplotlib inline\n",
    "\n",
    "plt.figure()\n",
    "\n",
    "# roc curve\n",
    "plt.plot(fpr_adb, tpr_adb, color='red', lw=2, \n",
    "         label='ROC Curve (area = %0.2f)' % AUC_adb)\n",
    "\n",
    "# random guess line\n",
    "plt.plot([0, 1], [0, 1], color='blue', lw=1, linestyle='--')\n",
    "\n",
    "# defining the range of X-Axis and Y-Axis\n",
    "plt.xlim([-0.005, 1.005])\n",
    "plt.ylim([0.0, 1.01])\n",
    "\n",
    "# labels, title, legend\n",
    "plt.xlabel('False Positive Rate')\n",
    "plt.ylabel('True Positive Rate')\n",
    "plt.title('Gender Classification Ada Boost')\n",
    "plt.legend(loc=\"lower right\")\n",
    "\n",
    "plt.show()"
   ]
  },
  {
   "cell_type": "markdown",
   "id": "coated-fourth",
   "metadata": {},
   "source": [
    "# XGBoost"
   ]
  },
  {
   "cell_type": "markdown",
   "id": "upper-respect",
   "metadata": {},
   "source": [
    "## XGBoost Accuracy"
   ]
  },
  {
   "cell_type": "code",
   "execution_count": 19,
   "id": "suspended-exchange",
   "metadata": {},
   "outputs": [
    {
     "name": "stdout",
     "output_type": "stream",
     "text": [
      "[01:30:21] WARNING: /Users/travis/build/dmlc/xgboost/src/learner.cc:1061: Starting in XGBoost 1.3.0, the default evaluation metric used with the objective 'binary:logistic' was changed from 'error' to 'logloss'. Explicitly set eval_metric if you'd like to restore the old behavior.\n",
      "XGBoost Accuracy: 93.66666666666667 %\n"
     ]
    },
    {
     "name": "stderr",
     "output_type": "stream",
     "text": [
      "/opt/anaconda3/lib/python3.8/site-packages/xgboost/sklearn.py:888: UserWarning: The use of label encoder in XGBClassifier is deprecated and will be removed in a future release. To remove this warning, do the following: 1) Pass option use_label_encoder=False when constructing XGBClassifier object; and 2) Encode your labels (y) as integers starting with 0, i.e. 0, 1, 2, ..., [num_class - 1].\n",
      "  warnings.warn(label_encoder_deprecation_msg, UserWarning)\n"
     ]
    }
   ],
   "source": [
    "from xgboost import XGBClassifier\n",
    "gender_xgb = XGBClassifier(n_estimators = 29,random_state=2)\n",
    "\n",
    "# training on training set\n",
    "gender_xgb.fit(X_train, y_train)\n",
    "# testing on testing set\n",
    "y_predict_xgb = gender_xgb.predict(X_test)\n",
    "\n",
    "# calculate the accuracy\n",
    "from sklearn.metrics import accuracy_score\n",
    "accuracy_xgb = accuracy_score(y_test, y_predict_xgb)\n",
    "print('XGBoost Accuracy:', accuracy_xgb*100,'%')"
   ]
  },
  {
   "cell_type": "markdown",
   "id": "addressed-playing",
   "metadata": {},
   "source": [
    "## XGBoost Area Under Curve"
   ]
  },
  {
   "cell_type": "code",
   "execution_count": 20,
   "id": "ranking-delivery",
   "metadata": {},
   "outputs": [
    {
     "name": "stdout",
     "output_type": "stream",
     "text": [
      "AUC XGBoost: 98.05692391899288 %\n"
     ]
    }
   ],
   "source": [
    "# predict probability of 'Male'\n",
    "y_predict_prob_xgb = gender_xgb.predict_proba(X_test)\n",
    "\n",
    "# get tpr and fpr for auc\n",
    "from sklearn import metrics\n",
    "fpr_xgb, tpr_xgb, thresholds = metrics.roc_curve(y_test, y_predict_prob_xgb[:,1], pos_label=1)\n",
    "\n",
    "# auc\n",
    "AUC_xgb = metrics.auc(fpr_xgb, tpr_xgb)\n",
    "print('AUC XGBoost:',AUC_xgb*100,'%')"
   ]
  },
  {
   "cell_type": "markdown",
   "id": "extreme-office",
   "metadata": {},
   "source": [
    "## XGBoost Roc Curve"
   ]
  },
  {
   "cell_type": "code",
   "execution_count": 21,
   "id": "daily-treat",
   "metadata": {},
   "outputs": [
    {
     "data": {
      "image/png": "[encoded data removed]",
      "text/plain": [
       "<Figure size 432x288 with 1 Axes>"
      ]
     },
     "metadata": {
      "needs_background": "light"
     },
     "output_type": "display_data"
    }
   ],
   "source": [
    "import matplotlib.pyplot as plt\n",
    "\n",
    "# keep plot inside page\n",
    "%matplotlib inline\n",
    "\n",
    "plt.figure()\n",
    "\n",
    "# roc curve\n",
    "plt.plot(fpr_xgb, tpr_xgb, color='red', lw=2, \n",
    "         label='ROC Curve (area = %0.2f)' % AUC_xgb)\n",
    "\n",
    "# random guess line\n",
    "plt.plot([0, 1], [0, 1], color='blue', lw=1, linestyle='--')\n",
    "\n",
    "# defining the range of X-Axis and Y-Axis\n",
    "plt.xlim([-0.005, 1.005])\n",
    "plt.ylim([0.0, 1.01])\n",
    "\n",
    "# labels, title, legend\n",
    "plt.xlabel('False Positive Rate')\n",
    "plt.ylabel('True Positive Rate')\n",
    "plt.title('Gender Classification XGB')\n",
    "plt.legend(loc=\"lower right\")\n",
    "\n",
    "plt.show()"
   ]
  },
  {
   "cell_type": "markdown",
   "id": "greater-composition",
   "metadata": {},
   "source": [
    "# Logistic Regression"
   ]
  },
  {
   "cell_type": "markdown",
   "id": "potential-holly",
   "metadata": {},
   "source": [
    "## Logistic Regression Accuracy"
   ]
  },
  {
   "cell_type": "code",
   "execution_count": 22,
   "id": "genuine-generator",
   "metadata": {},
   "outputs": [
    {
     "name": "stdout",
     "output_type": "stream",
     "text": [
      "Logistic Regression Accuracy: 92.66666666666666 %\n"
     ]
    }
   ],
   "source": [
    "from sklearn.linear_model import LogisticRegression\n",
    "gender_lgr = LogisticRegression()\n",
    "\n",
    "# training on training set\n",
    "gender_lgr.fit(X_train, y_train)\n",
    "# testing on testing set\n",
    "y_predict_lgr = gender_lgr.predict(X_test)\n",
    "\n",
    "# calculate the accuracy\n",
    "from sklearn.metrics import accuracy_score\n",
    "accuracy_lgr = accuracy_score(y_test, y_predict_lgr)\n",
    "print('Logistic Regression Accuracy:',accuracy_lgr*100,'%')"
   ]
  },
  {
   "cell_type": "markdown",
   "id": "parallel-macintosh",
   "metadata": {},
   "source": [
    "## Logistic Regression Area Under Curve"
   ]
  },
  {
   "cell_type": "code",
   "execution_count": 23,
   "id": "conscious-stylus",
   "metadata": {},
   "outputs": [
    {
     "name": "stdout",
     "output_type": "stream",
     "text": [
      "AUC Logistic Regression: 98.10709724502829 %\n"
     ]
    }
   ],
   "source": [
    "# predict probability of 'Male'\n",
    "y_predict_prob_lgr = gender_lgr.predict_proba(X_test)\n",
    "\n",
    "# get tpr and fpr for auc\n",
    "from sklearn import metrics\n",
    "fpr_lgr, tpr_lgr, thresholds = metrics.roc_curve(y_test, y_predict_prob_lgr[:,1], pos_label=1)\n",
    "\n",
    "# auc\n",
    "AUC_lgr = metrics.auc(fpr_lgr, tpr_lgr)\n",
    "print('AUC Logistic Regression:',AUC_lgr*100,'%')"
   ]
  },
  {
   "cell_type": "markdown",
   "id": "ready-destination",
   "metadata": {},
   "source": [
    "## Logistic Regression ROC Curve"
   ]
  },
  {
   "cell_type": "code",
   "execution_count": 24,
   "id": "banner-bicycle",
   "metadata": {},
   "outputs": [
    {
     "data": {
      "image/png": "[encoded data removed]",
      "text/plain": [
       "<Figure size 432x288 with 1 Axes>"
      ]
     },
     "metadata": {
      "needs_background": "light"
     },
     "output_type": "display_data"
    }
   ],
   "source": [
    "import matplotlib.pyplot as plt\n",
    "\n",
    "# keep plot inside page\n",
    "%matplotlib inline\n",
    "\n",
    "plt.figure()\n",
    "\n",
    "# roc curve:\n",
    "plt.plot(fpr_lgr, tpr_lgr, color='red', lw=2, \n",
    "         label='ROC Curve (area = %0.2f)' % AUC_lgr)\n",
    "\n",
    "# random guess line:\n",
    "plt.plot([0, 1], [0, 1], color='blue', lw=1, linestyle='--')\n",
    "\n",
    "# defining the range of X-Axis and Y-Axis:\n",
    "plt.xlim([-0.005, 1.005])\n",
    "plt.ylim([0.0, 1.01])\n",
    "\n",
    "# labels, title, legend:\n",
    "plt.xlabel('False Positive Rate')\n",
    "plt.ylabel('True Positive Rate')\n",
    "plt.title('Gender Classification Logistic Regression')\n",
    "plt.legend(loc=\"lower right\")\n",
    "\n",
    "plt.show()"
   ]
  },
  {
   "cell_type": "markdown",
   "id": "impaired-sheep",
   "metadata": {},
   "source": [
    "# KNN"
   ]
  },
  {
   "cell_type": "markdown",
   "id": "rubber-preference",
   "metadata": {},
   "source": [
    "## KNN Accuracy"
   ]
  },
  {
   "cell_type": "code",
   "execution_count": 25,
   "id": "coordinate-extent",
   "metadata": {},
   "outputs": [
    {
     "name": "stdout",
     "output_type": "stream",
     "text": [
      "KNN Accuracy: 88.66666666666667 %\n"
     ]
    }
   ],
   "source": [
    "from sklearn.neighbors import KNeighborsClassifier\n",
    "k = 3\n",
    "gender_knn = KNeighborsClassifier(n_neighbors=k)\n",
    "\n",
    "# training on training set\n",
    "gender_knn.fit(X_train, y_train)\n",
    "# testing on testing set\n",
    "y_predict_knn = gender_knn.predict(X_test)\n",
    "\n",
    "# calculate the accuracy\n",
    "from sklearn.metrics import accuracy_score\n",
    "accuracy_knn = accuracy_score(y_test, y_predict_knn)\n",
    "print('KNN Accuracy:',accuracy_knn*100,'%')"
   ]
  },
  {
   "cell_type": "markdown",
   "id": "satisfied-preservation",
   "metadata": {},
   "source": [
    "## KNN Area Under Curve"
   ]
  },
  {
   "cell_type": "code",
   "execution_count": 26,
   "id": "fixed-ontario",
   "metadata": {},
   "outputs": [
    {
     "name": "stdout",
     "output_type": "stream",
     "text": [
      "AUC KNN: 93.32238642583471 %\n"
     ]
    }
   ],
   "source": [
    "# predict probability of 'Male'\n",
    "y_predict_prob_knn = gender_knn.predict_proba(X_test)\n",
    "\n",
    "# get tpr and fpr for auc\n",
    "from sklearn import metrics\n",
    "fpr_knn, tpr_knn, thresholds = metrics.roc_curve(y_test, y_predict_prob_knn[:,1], pos_label=1)\n",
    "\n",
    "# auc\n",
    "AUC_knn = metrics.auc(fpr_knn, tpr_knn)\n",
    "print('AUC KNN:',AUC_knn*100,'%')"
   ]
  },
  {
   "cell_type": "markdown",
   "id": "romantic-objective",
   "metadata": {},
   "source": [
    "## KNN ROC Curve"
   ]
  },
  {
   "cell_type": "code",
   "execution_count": 27,
   "id": "brazilian-observer",
   "metadata": {},
   "outputs": [
    {
     "data": {
      "image/png": "[encoded data removed]",
      "text/plain": [
       "<Figure size 432x288 with 1 Axes>"
      ]
     },
     "metadata": {
      "needs_background": "light"
     },
     "output_type": "display_data"
    }
   ],
   "source": [
    "import matplotlib.pyplot as plt\n",
    "\n",
    "# keep plot inside page\n",
    "%matplotlib inline\n",
    "\n",
    "plt.figure()\n",
    "\n",
    "# roc curve:\n",
    "plt.plot(fpr_knn, tpr_knn, color='red', lw=2, \n",
    "         label='ROC Curve (area = %0.2f)' % AUC_knn)\n",
    "\n",
    "# random guess line:\n",
    "plt.plot([0, 1], [0, 1], color='blue', lw=1, linestyle='--')\n",
    "\n",
    "# defining the range of X-Axis and Y-Axis:\n",
    "plt.xlim([-0.005, 1.005])\n",
    "plt.ylim([0.0, 1.01])\n",
    "\n",
    "# labels, title, legend:\n",
    "plt.xlabel('False Positive Rate')\n",
    "plt.ylabel('True Positive Rate')\n",
    "plt.title('Gender Classification KNN')\n",
    "plt.legend(loc=\"lower right\")\n",
    "\n",
    "plt.show()"
   ]
  },
  {
   "cell_type": "markdown",
   "id": "literary-cowboy",
   "metadata": {},
   "source": [
    "# CNN"
   ]
  },
  {
   "cell_type": "code",
   "execution_count": 28,
   "id": "later-interaction",
   "metadata": {},
   "outputs": [],
   "source": [
    "from keras.models import Sequential\n",
    "from keras.layers import Dense, Dropout, Activation, Flatten\n",
    "from keras.layers import Convolution2D, MaxPooling2D\n",
    "from keras.utils import np_utils"
   ]
  },
  {
   "cell_type": "markdown",
   "id": "closing-shopping",
   "metadata": {},
   "source": [
    "## Image Demo"
   ]
  },
  {
   "cell_type": "code",
   "execution_count": 29,
   "id": "brazilian-auckland",
   "metadata": {},
   "outputs": [
    {
     "data": {
      "image/png": "[encoded data removed]",
      "text/plain": [
       "<Figure size 432x288 with 1 Axes>"
      ]
     },
     "metadata": {
      "needs_background": "light"
     },
     "output_type": "display_data"
    }
   ],
   "source": [
    "%matplotlib inline\n",
    "\n",
    "import matplotlib.image as mpimg\n",
    "import matplotlib.pyplot as plt\n",
    "\n",
    "imageDemo = mpimg.imread('/Users/markkalaiji/Desktop/faces/000653.jpg')\n",
    "imgplot = plt.imshow(imageDemo, cmap=plt.cm.gray)\n",
    "plt.show()"
   ]
  },
  {
   "cell_type": "code",
   "execution_count": 30,
   "id": "collected-reducing",
   "metadata": {},
   "outputs": [
    {
     "data": {
      "text/plain": [
       "(218, 178, 3)"
      ]
     },
     "execution_count": 30,
     "metadata": {},
     "output_type": "execute_result"
    }
   ],
   "source": [
    "# get pixel dimensions and color scale\n",
    "imageDemo.shape"
   ]
  },
  {
   "cell_type": "code",
   "execution_count": 31,
   "id": "sixth-mount",
   "metadata": {},
   "outputs": [
    {
     "name": "stdout",
     "output_type": "stream",
     "text": [
      "(700, 40)\n",
      "(300, 40)\n"
     ]
    }
   ],
   "source": [
    "# get size of train and test\n",
    "print(X_train_cnn.shape)\n",
    "print(X_test_cnn.shape)"
   ]
  },
  {
   "cell_type": "markdown",
   "id": "linear-interface",
   "metadata": {},
   "source": [
    "## Traverse Images"
   ]
  },
  {
   "cell_type": "code",
   "execution_count": 32,
   "id": "active-thomas",
   "metadata": {},
   "outputs": [],
   "source": [
    "# make a list to store the images for training\n",
    "face_list_train = []\n",
    "\n",
    "for image_name in X_train_cnn['image_id']:\n",
    "    curr_image = mpimg.imread('/Users/markkalaiji/Desktop/faces/' + image_name)\n",
    "    \n",
    "    face_list_train.append(curr_image)"
   ]
  },
  {
   "cell_type": "code",
   "execution_count": 33,
   "id": "decimal-particular",
   "metadata": {},
   "outputs": [],
   "source": [
    "# make a list to store the images for testing\n",
    "face_list_test = []\n",
    "\n",
    "for image_name in X_test_cnn['image_id']:\n",
    "    curr_image = mpimg.imread('/Users/markkalaiji/Desktop/faces/' + image_name)\n",
    "    \n",
    "    face_list_test.append(curr_image)"
   ]
  },
  {
   "cell_type": "code",
   "execution_count": 34,
   "id": "becoming-accused",
   "metadata": {},
   "outputs": [
    {
     "name": "stdout",
     "output_type": "stream",
     "text": [
      "(700, 218, 178, 3)\n",
      "(300, 218, 178, 3)\n"
     ]
    }
   ],
   "source": [
    "# make it from a list type to array (array has functions you can call on)\n",
    "face_list_train = np.asarray(face_list_train)\n",
    "face_list_test = np.asarray(face_list_test)\n",
    "\n",
    "print(face_list_train.shape)\n",
    "print(face_list_test.shape)"
   ]
  },
  {
   "cell_type": "markdown",
   "id": "global-least",
   "metadata": {},
   "source": [
    "## Create CNN"
   ]
  },
  {
   "cell_type": "code",
   "execution_count": 35,
   "id": "third-reputation",
   "metadata": {},
   "outputs": [],
   "source": [
    "# create sequential object\n",
    "model = Sequential()"
   ]
  },
  {
   "cell_type": "code",
   "execution_count": 36,
   "id": "mineral-example",
   "metadata": {
    "collapsed": false,
    "jupyter": {
     "outputs_hidden": false
    }
   },
   "outputs": [
    {
     "name": "stdout",
     "output_type": "stream",
     "text": [
      "(None, 216, 176, 32)\n"
     ]
    }
   ],
   "source": [
    "# CNN first layer (with 32 3x3 filter):\n",
    "model.add(Convolution2D(32, (3, 3), activation='relu', input_shape=(218,178,3))) # 218 rows, 178 columns, 3 colors rgb - same as image_demo\n",
    "print(model.output_shape)"
   ]
  },
  {
   "cell_type": "code",
   "execution_count": 37,
   "id": "literary-niger",
   "metadata": {
    "collapsed": false,
    "jupyter": {
     "outputs_hidden": false
    }
   },
   "outputs": [
    {
     "name": "stdout",
     "output_type": "stream",
     "text": [
      "(None, 214, 174, 32)\n",
      "(None, 107, 87, 32)\n"
     ]
    }
   ],
   "source": [
    "# more hidden layers\n",
    "model.add(Convolution2D(32, (3, 3), activation='relu'))\n",
    "print(model.output_shape)\n",
    "\n",
    "# pooling layer\n",
    "model.add(MaxPooling2D(pool_size=(2,2)))\n",
    "print(model.output_shape)\n",
    "\n",
    "# dropout layer to avoid overfitting\n",
    "model.add(Dropout(0.25)) "
   ]
  },
  {
   "cell_type": "code",
   "execution_count": 38,
   "id": "weekly-hanging",
   "metadata": {
    "collapsed": false,
    "jupyter": {
     "outputs_hidden": false
    }
   },
   "outputs": [
    {
     "name": "stdout",
     "output_type": "stream",
     "text": [
      "(None, 297888)\n",
      "(None, 128)\n",
      "(None, 2)\n"
     ]
    }
   ],
   "source": [
    "# output fully connected dense layers \n",
    "# makes 2D matrix 1D \n",
    "model.add(Flatten())\n",
    "print(model.output_shape)\n",
    "\n",
    "model.add(Dense(128, activation='relu'))\n",
    "print(model.output_shape)\n",
    "\n",
    "model.add(Dropout(0.5))\n",
    "model.add(Dense(2, activation='softmax')) #\n",
    "print(model.output_shape)"
   ]
  },
  {
   "cell_type": "markdown",
   "id": "prepared-challenge",
   "metadata": {},
   "source": [
    "## Compile Model"
   ]
  },
  {
   "cell_type": "code",
   "execution_count": 39,
   "id": "clean-prescription",
   "metadata": {
    "collapsed": false,
    "jupyter": {
     "outputs_hidden": false
    }
   },
   "outputs": [
    {
     "name": "stdout",
     "output_type": "stream",
     "text": [
      "Model: \"sequential\"\n",
      "_________________________________________________________________\n",
      "Layer (type)                 Output Shape              Param #   \n",
      "=================================================================\n",
      "conv2d (Conv2D)              (None, 216, 176, 32)      896       \n",
      "_________________________________________________________________\n",
      "conv2d_1 (Conv2D)            (None, 214, 174, 32)      9248      \n",
      "_________________________________________________________________\n",
      "max_pooling2d (MaxPooling2D) (None, 107, 87, 32)       0         \n",
      "_________________________________________________________________\n",
      "dropout (Dropout)            (None, 107, 87, 32)       0         \n",
      "_________________________________________________________________\n",
      "flatten (Flatten)            (None, 297888)            0         \n",
      "_________________________________________________________________\n",
      "dense (Dense)                (None, 128)               38129792  \n",
      "_________________________________________________________________\n",
      "dropout_1 (Dropout)          (None, 128)               0         \n",
      "_________________________________________________________________\n",
      "dense_1 (Dense)              (None, 2)                 258       \n",
      "=================================================================\n",
      "Total params: 38,140,194\n",
      "Trainable params: 38,140,194\n",
      "Non-trainable params: 0\n",
      "_________________________________________________________________\n",
      "None\n"
     ]
    }
   ],
   "source": [
    "model.compile(loss='categorical_crossentropy',metrics=['accuracy'],\n",
    "              optimizer='adam')\n",
    "\n",
    "print(model.summary())"
   ]
  },
  {
   "cell_type": "markdown",
   "id": "independent-canon",
   "metadata": {},
   "source": [
    "## One-Hot Encode Label"
   ]
  },
  {
   "cell_type": "code",
   "execution_count": 40,
   "id": "governmental-instruction",
   "metadata": {
    "collapsed": false,
    "jupyter": {
     "outputs_hidden": false
    }
   },
   "outputs": [],
   "source": [
    "# for loop to iterate through testing: if not 1 append to 0 (-1 and 1 changed to 0 and 1)\n",
    "new_label_train = []\n",
    "\n",
    "for label_train in y_train:\n",
    "    if label_train == -1:\n",
    "        new_label_train.append(0)    \n",
    "    else:\n",
    "        new_label_train.append(label_train)"
   ]
  },
  {
   "cell_type": "code",
   "execution_count": 41,
   "id": "nervous-whale",
   "metadata": {},
   "outputs": [],
   "source": [
    "# for loop to iterate through testing: if not 1 append to 0 (-1 and 1 changed to 0 and 1)\n",
    "new_label_test = []\n",
    "\n",
    "for label_test in y_test:\n",
    "    if label_test == -1:\n",
    "        new_label_test.append(0)    \n",
    "    else:\n",
    "        new_label_test.append(label_test)"
   ]
  },
  {
   "cell_type": "code",
   "execution_count": 42,
   "id": "cognitive-treat",
   "metadata": {},
   "outputs": [],
   "source": [
    "from numpy import array\n",
    "from numpy import argmax\n",
    "from keras.utils import to_categorical\n",
    "\n",
    "# one hot encode y_train\n",
    "encoded_train = to_categorical(new_label_train)\n",
    "# invert encoding\n",
    "inverted_train = argmax(encoded_train[0])\n",
    "\n",
    "# one hot encode y_test\n",
    "encoded_test = to_categorical(new_label_test)\n",
    "# invert encoding\n",
    "inverted_test = argmax(encoded_test[0])"
   ]
  },
  {
   "cell_type": "markdown",
   "id": "monetary-biology",
   "metadata": {},
   "source": [
    "# Training"
   ]
  },
  {
   "cell_type": "code",
   "execution_count": 43,
   "id": "extreme-closure",
   "metadata": {},
   "outputs": [
    {
     "name": "stdout",
     "output_type": "stream",
     "text": [
      "Epoch 1/5\n",
      "88/88 [==============================] - 41s 461ms/step - loss: 825.6809 - accuracy: 0.5223\n",
      "Epoch 2/5\n",
      "88/88 [==============================] - 35s 400ms/step - loss: 0.4626 - accuracy: 0.8128\n",
      "Epoch 3/5\n",
      "88/88 [==============================] - 34s 384ms/step - loss: 0.3444 - accuracy: 0.8862\n",
      "Epoch 4/5\n",
      "88/88 [==============================] - 34s 383ms/step - loss: 0.1500 - accuracy: 0.9664\n",
      "Epoch 5/5\n",
      "88/88 [==============================] - 34s 380ms/step - loss: 0.0842 - accuracy: 0.9707\n"
     ]
    }
   ],
   "source": [
    "history = model.fit(face_list_train, encoded_train, batch_size=8, epochs=5, verbose=1)"
   ]
  },
  {
   "cell_type": "markdown",
   "id": "viral-return",
   "metadata": {},
   "source": [
    "# Graph"
   ]
  },
  {
   "cell_type": "code",
   "execution_count": 44,
   "id": "christian-motor",
   "metadata": {
    "collapsed": false,
    "jupyter": {
     "outputs_hidden": false
    }
   },
   "outputs": [
    {
     "data": {
      "text/plain": [
       "<matplotlib.legend.Legend at 0x7f81bacfeb50>"
      ]
     },
     "execution_count": 44,
     "metadata": {},
     "output_type": "execute_result"
    },
    {
     "data": {
      "image/png": "[encoded data removed]",
      "text/plain": [
       "<Figure size 432x288 with 1 Axes>"
      ]
     },
     "metadata": {
      "needs_background": "light"
     },
     "output_type": "display_data"
    },
    {
     "data": {
      "image/png": "[encoded data removed]",
      "text/plain": [
       "<Figure size 432x288 with 1 Axes>"
      ]
     },
     "metadata": {
      "needs_background": "light"
     },
     "output_type": "display_data"
    }
   ],
   "source": [
    "import matplotlib.pyplot as plt\n",
    "\n",
    "%matplotlib inline\n",
    "\n",
    "accuracy = history.history['accuracy']\n",
    "loss = history.history['loss']\n",
    "epochs = range(len(accuracy))\n",
    "plt.plot(epochs, accuracy, 'b-', label='Training accuracy')\n",
    "plt.title('Training and validation accuracy')\n",
    "plt.legend()\n",
    "plt.figure()\n",
    "plt.plot(epochs, loss, 'r-', label='Training loss')\n",
    "plt.title('Training and validation loss')\n",
    "plt.legend()"
   ]
  },
  {
   "cell_type": "markdown",
   "id": "olympic-composer",
   "metadata": {},
   "source": [
    "# Testing"
   ]
  },
  {
   "cell_type": "code",
   "execution_count": 45,
   "id": "practical-device",
   "metadata": {
    "collapsed": false,
    "jupyter": {
     "outputs_hidden": false
    }
   },
   "outputs": [
    {
     "name": "stderr",
     "output_type": "stream",
     "text": [
      "/opt/anaconda3/lib/python3.8/site-packages/tensorflow/python/keras/engine/sequential.py:450: UserWarning: `model.predict_classes()` is deprecated and will be removed after 2021-01-01. Please use instead:* `np.argmax(model.predict(x), axis=-1)`,   if your model does multi-class classification   (e.g. if it uses a `softmax` last-layer activation).* `(model.predict(x) > 0.5).astype(\"int32\")`,   if your model does binary classification   (e.g. if it uses a `sigmoid` last-layer activation).\n",
      "  warnings.warn('`model.predict_classes()` is deprecated and '\n"
     ]
    },
    {
     "name": "stdout",
     "output_type": "stream",
     "text": [
      "10/10 [==============================] - 2s 227ms/step - loss: 1.6561 - accuracy: 0.7067\n",
      "CNN Accuracy: 70.6666648387909 %\n"
     ]
    }
   ],
   "source": [
    "predicted_classes = model.predict_classes(face_list_test)\n",
    "score = model.evaluate(face_list_test, encoded_test, verbose=1)\n",
    "print('CNN Accuracy:', score[1]*100,'%')"
   ]
  },
  {
   "cell_type": "code",
   "execution_count": 46,
   "id": "threaded-advice",
   "metadata": {},
   "outputs": [
    {
     "data": {
      "text/plain": [
       "0.2733333333333333"
      ]
     },
     "execution_count": 46,
     "metadata": {},
     "output_type": "execute_result"
    }
   ],
   "source": [
    "np.asarray(predicted_classes).mean()\n",
    "# out 1000 images ~270 were predicted male and ~730 predicted were female\n",
    "# the model is biased for females "
   ]
  },
  {
   "cell_type": "markdown",
   "id": "varied-floor",
   "metadata": {},
   "source": [
    "# Final Predictions"
   ]
  },
  {
   "cell_type": "code",
   "execution_count": 47,
   "id": "quality-environment",
   "metadata": {},
   "outputs": [],
   "source": [
    "# changing label back to either -1 or 1 for symetrical purposes in final results\n",
    "final_cnn_predictions = []\n",
    "\n",
    "for label_test in predicted_classes:\n",
    "    if label_test == 0:\n",
    "        final_cnn_predictions.append(-1)\n",
    "        \n",
    "    else:\n",
    "        final_cnn_predictions.append(label_test)"
   ]
  },
  {
   "cell_type": "code",
   "execution_count": 48,
   "id": "naval-photograph",
   "metadata": {},
   "outputs": [
    {
     "data": {
      "text/html": [
       "<div>\n",
       "<style scoped>\n",
       "    .dataframe tbody tr th:only-of-type {\n",
       "        vertical-align: middle;\n",
       "    }\n",
       "\n",
       "    .dataframe tbody tr th {\n",
       "        vertical-align: top;\n",
       "    }\n",
       "\n",
       "    .dataframe thead th {\n",
       "        text-align: right;\n",
       "    }\n",
       "</style>\n",
       "<table border=\"1\" class=\"dataframe\">\n",
       "  <thead>\n",
       "    <tr style=\"text-align: right;\">\n",
       "      <th></th>\n",
       "      <th>Random Forest</th>\n",
       "      <th>Decision Tree</th>\n",
       "      <th>SVM</th>\n",
       "      <th>Ada Boost</th>\n",
       "      <th>XGBoost</th>\n",
       "      <th>Logistic Regression</th>\n",
       "      <th>KNN</th>\n",
       "      <th>CNN</th>\n",
       "    </tr>\n",
       "  </thead>\n",
       "  <tbody>\n",
       "    <tr>\n",
       "      <th>0</th>\n",
       "      <td>1</td>\n",
       "      <td>1</td>\n",
       "      <td>1</td>\n",
       "      <td>1</td>\n",
       "      <td>1</td>\n",
       "      <td>1</td>\n",
       "      <td>1</td>\n",
       "      <td>-1</td>\n",
       "    </tr>\n",
       "    <tr>\n",
       "      <th>1</th>\n",
       "      <td>1</td>\n",
       "      <td>1</td>\n",
       "      <td>1</td>\n",
       "      <td>1</td>\n",
       "      <td>1</td>\n",
       "      <td>1</td>\n",
       "      <td>1</td>\n",
       "      <td>1</td>\n",
       "    </tr>\n",
       "    <tr>\n",
       "      <th>2</th>\n",
       "      <td>-1</td>\n",
       "      <td>-1</td>\n",
       "      <td>-1</td>\n",
       "      <td>-1</td>\n",
       "      <td>-1</td>\n",
       "      <td>-1</td>\n",
       "      <td>-1</td>\n",
       "      <td>-1</td>\n",
       "    </tr>\n",
       "    <tr>\n",
       "      <th>3</th>\n",
       "      <td>-1</td>\n",
       "      <td>-1</td>\n",
       "      <td>-1</td>\n",
       "      <td>-1</td>\n",
       "      <td>-1</td>\n",
       "      <td>-1</td>\n",
       "      <td>-1</td>\n",
       "      <td>-1</td>\n",
       "    </tr>\n",
       "    <tr>\n",
       "      <th>4</th>\n",
       "      <td>1</td>\n",
       "      <td>1</td>\n",
       "      <td>-1</td>\n",
       "      <td>-1</td>\n",
       "      <td>-1</td>\n",
       "      <td>-1</td>\n",
       "      <td>-1</td>\n",
       "      <td>-1</td>\n",
       "    </tr>\n",
       "    <tr>\n",
       "      <th>...</th>\n",
       "      <td>...</td>\n",
       "      <td>...</td>\n",
       "      <td>...</td>\n",
       "      <td>...</td>\n",
       "      <td>...</td>\n",
       "      <td>...</td>\n",
       "      <td>...</td>\n",
       "      <td>...</td>\n",
       "    </tr>\n",
       "    <tr>\n",
       "      <th>295</th>\n",
       "      <td>1</td>\n",
       "      <td>1</td>\n",
       "      <td>1</td>\n",
       "      <td>1</td>\n",
       "      <td>1</td>\n",
       "      <td>1</td>\n",
       "      <td>1</td>\n",
       "      <td>1</td>\n",
       "    </tr>\n",
       "    <tr>\n",
       "      <th>296</th>\n",
       "      <td>1</td>\n",
       "      <td>1</td>\n",
       "      <td>1</td>\n",
       "      <td>1</td>\n",
       "      <td>1</td>\n",
       "      <td>1</td>\n",
       "      <td>1</td>\n",
       "      <td>-1</td>\n",
       "    </tr>\n",
       "    <tr>\n",
       "      <th>297</th>\n",
       "      <td>1</td>\n",
       "      <td>1</td>\n",
       "      <td>1</td>\n",
       "      <td>1</td>\n",
       "      <td>1</td>\n",
       "      <td>1</td>\n",
       "      <td>1</td>\n",
       "      <td>-1</td>\n",
       "    </tr>\n",
       "    <tr>\n",
       "      <th>298</th>\n",
       "      <td>-1</td>\n",
       "      <td>-1</td>\n",
       "      <td>-1</td>\n",
       "      <td>-1</td>\n",
       "      <td>-1</td>\n",
       "      <td>-1</td>\n",
       "      <td>-1</td>\n",
       "      <td>-1</td>\n",
       "    </tr>\n",
       "    <tr>\n",
       "      <th>299</th>\n",
       "      <td>-1</td>\n",
       "      <td>-1</td>\n",
       "      <td>1</td>\n",
       "      <td>1</td>\n",
       "      <td>1</td>\n",
       "      <td>1</td>\n",
       "      <td>1</td>\n",
       "      <td>1</td>\n",
       "    </tr>\n",
       "  </tbody>\n",
       "</table>\n",
       "<p>300 rows × 8 columns</p>\n",
       "</div>"
      ],
      "text/plain": [
       "     Random Forest  Decision Tree  SVM  Ada Boost  XGBoost  \\\n",
       "0                1              1    1          1        1   \n",
       "1                1              1    1          1        1   \n",
       "2               -1             -1   -1         -1       -1   \n",
       "3               -1             -1   -1         -1       -1   \n",
       "4                1              1   -1         -1       -1   \n",
       "..             ...            ...  ...        ...      ...   \n",
       "295              1              1    1          1        1   \n",
       "296              1              1    1          1        1   \n",
       "297              1              1    1          1        1   \n",
       "298             -1             -1   -1         -1       -1   \n",
       "299             -1             -1    1          1        1   \n",
       "\n",
       "     Logistic Regression  KNN  CNN  \n",
       "0                      1    1   -1  \n",
       "1                      1    1    1  \n",
       "2                     -1   -1   -1  \n",
       "3                     -1   -1   -1  \n",
       "4                     -1   -1   -1  \n",
       "..                   ...  ...  ...  \n",
       "295                    1    1    1  \n",
       "296                    1    1   -1  \n",
       "297                    1    1   -1  \n",
       "298                   -1   -1   -1  \n",
       "299                    1    1    1  \n",
       "\n",
       "[300 rows x 8 columns]"
      ]
     },
     "execution_count": 48,
     "metadata": {},
     "output_type": "execute_result"
    }
   ],
   "source": [
    "# final predictions for all algorithms\n",
    "predictions_df = pd.DataFrame()\n",
    "\n",
    "predictions_df['Random Forest'] = y_predict_rf\n",
    "predictions_df['Decision Tree'] = y_predict_dt\n",
    "predictions_df['SVM'] = y_predict_svm\n",
    "predictions_df['Ada Boost'] = y_predict_adb\n",
    "predictions_df['XGBoost'] = y_predict_xgb\n",
    "predictions_df['Logistic Regression'] = y_predict_lgr\n",
    "predictions_df['KNN'] = y_predict_knn\n",
    "\n",
    "predictions_df['CNN'] = final_cnn_predictions\n",
    "\n",
    "predictions_df"
   ]
  },
  {
   "cell_type": "code",
   "execution_count": 49,
   "id": "exposed-grenada",
   "metadata": {},
   "outputs": [
    {
     "data": {
      "text/html": [
       "<div>\n",
       "<style scoped>\n",
       "    .dataframe tbody tr th:only-of-type {\n",
       "        vertical-align: middle;\n",
       "    }\n",
       "\n",
       "    .dataframe tbody tr th {\n",
       "        vertical-align: top;\n",
       "    }\n",
       "\n",
       "    .dataframe thead th {\n",
       "        text-align: right;\n",
       "    }\n",
       "</style>\n",
       "<table border=\"1\" class=\"dataframe\">\n",
       "  <thead>\n",
       "    <tr style=\"text-align: right;\">\n",
       "      <th></th>\n",
       "      <th>0</th>\n",
       "      <th>1</th>\n",
       "    </tr>\n",
       "  </thead>\n",
       "  <tbody>\n",
       "    <tr>\n",
       "      <th>0</th>\n",
       "      <td>1.0</td>\n",
       "      <td>NaN</td>\n",
       "    </tr>\n",
       "    <tr>\n",
       "      <th>1</th>\n",
       "      <td>1.0</td>\n",
       "      <td>NaN</td>\n",
       "    </tr>\n",
       "    <tr>\n",
       "      <th>2</th>\n",
       "      <td>-1.0</td>\n",
       "      <td>NaN</td>\n",
       "    </tr>\n",
       "    <tr>\n",
       "      <th>3</th>\n",
       "      <td>-1.0</td>\n",
       "      <td>NaN</td>\n",
       "    </tr>\n",
       "    <tr>\n",
       "      <th>4</th>\n",
       "      <td>-1.0</td>\n",
       "      <td>NaN</td>\n",
       "    </tr>\n",
       "    <tr>\n",
       "      <th>...</th>\n",
       "      <td>...</td>\n",
       "      <td>...</td>\n",
       "    </tr>\n",
       "    <tr>\n",
       "      <th>295</th>\n",
       "      <td>1.0</td>\n",
       "      <td>NaN</td>\n",
       "    </tr>\n",
       "    <tr>\n",
       "      <th>296</th>\n",
       "      <td>1.0</td>\n",
       "      <td>NaN</td>\n",
       "    </tr>\n",
       "    <tr>\n",
       "      <th>297</th>\n",
       "      <td>1.0</td>\n",
       "      <td>NaN</td>\n",
       "    </tr>\n",
       "    <tr>\n",
       "      <th>298</th>\n",
       "      <td>-1.0</td>\n",
       "      <td>NaN</td>\n",
       "    </tr>\n",
       "    <tr>\n",
       "      <th>299</th>\n",
       "      <td>1.0</td>\n",
       "      <td>NaN</td>\n",
       "    </tr>\n",
       "  </tbody>\n",
       "</table>\n",
       "<p>300 rows × 2 columns</p>\n",
       "</div>"
      ],
      "text/plain": [
       "       0   1\n",
       "0    1.0 NaN\n",
       "1    1.0 NaN\n",
       "2   -1.0 NaN\n",
       "3   -1.0 NaN\n",
       "4   -1.0 NaN\n",
       "..   ...  ..\n",
       "295  1.0 NaN\n",
       "296  1.0 NaN\n",
       "297  1.0 NaN\n",
       "298 -1.0 NaN\n",
       "299  1.0 NaN\n",
       "\n",
       "[300 rows x 2 columns]"
      ]
     },
     "execution_count": 49,
     "metadata": {},
     "output_type": "execute_result"
    }
   ],
   "source": [
    "# voting with mode of all predictions\n",
    "final_predictions = predictions_df.mode(axis = 1)\n",
    "final_predictions\n",
    "\n",
    "# if value is 1, mode of all algorithms voted 'Male' / if value is 0, mode of all algorithms voted 'Female'"
   ]
  },
  {
   "cell_type": "code",
   "execution_count": 51,
   "id": "constant-punch",
   "metadata": {},
   "outputs": [
    {
     "name": "stdout",
     "output_type": "stream",
     "text": [
      "Final Accuracy: 92.33333333333333 %\n"
     ]
    }
   ],
   "source": [
    "# calculate the accuracy of all ml algos, cnn and voting\n",
    "from sklearn.metrics import accuracy_score\n",
    "accuracy_final = accuracy_score(y_test, final_predictions.iloc[:,0])\n",
    "print('Final Accuracy:', accuracy_final*100,'%')\n",
    "\n",
    "# wanted to see if combining classic ml algos with deep learning would create a better accuracy\n",
    "# but in the end XGBoost was superior by 1.3% as well as Ada Boost and Logistic Regresssion by 0.3%"
   ]
  },
  {
   "cell_type": "code",
   "execution_count": null,
   "id": "dental-corruption",
   "metadata": {},
   "outputs": [],
   "source": []
  }
 ],
 "metadata": {
  "kernelspec": {
   "display_name": "Python 3",
   "language": "python",
   "name": "python3"
  },
  "language_info": {
   "codemirror_mode": {
    "name": "ipython",
    "version": 3
   },
   "file_extension": ".py",
   "mimetype": "text/x-python",
   "name": "python",
   "nbconvert_exporter": "python",
   "pygments_lexer": "ipython3",
   "version": "3.8.8"
  }
 },
 "nbformat": 4,
 "nbformat_minor": 5
}
